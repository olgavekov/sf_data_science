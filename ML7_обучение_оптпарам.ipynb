{
 "cells": [
  {
   "cell_type": "code",
   "execution_count": 54,
   "metadata": {},
   "outputs": [],
   "source": [
    "#импорт библиотек\n",
    "import numpy as np #для матричных вычислений\n",
    "import pandas as pd #для анализа и предобработки данных\n",
    "import matplotlib.pyplot as plt #для визуализации\n",
    "import seaborn as sns #для визуализации\n",
    "\n",
    "from sklearn import linear_model #линейные модели\n",
    "from sklearn import metrics #метрики\n",
    "\n",
    "from sklearn.model_selection import train_test_split #сплитование выборки\n",
    "from sklearn import preprocessing #предобработка\n",
    "\n",
    "from sklearn import tree #деревья решений\n",
    "from sklearn import ensemble #ансамбли\n",
    "from sklearn import metrics #метрики\n",
    "from sklearn import preprocessing #предобработка\n",
    "from sklearn.model_selection import train_test_split #сплитование выборки\n",
    "\n",
    "%matplotlib inline\n",
    "plt.style.use('seaborn')"
   ]
  },
  {
   "cell_type": "code",
   "execution_count": 55,
   "metadata": {},
   "outputs": [
    {
     "data": {
      "text/html": [
       "<div>\n",
       "<style scoped>\n",
       "    .dataframe tbody tr th:only-of-type {\n",
       "        vertical-align: middle;\n",
       "    }\n",
       "\n",
       "    .dataframe tbody tr th {\n",
       "        vertical-align: top;\n",
       "    }\n",
       "\n",
       "    .dataframe thead th {\n",
       "        text-align: right;\n",
       "    }\n",
       "</style>\n",
       "<table border=\"1\" class=\"dataframe\">\n",
       "  <thead>\n",
       "    <tr style=\"text-align: right;\">\n",
       "      <th></th>\n",
       "      <th>Activity</th>\n",
       "      <th>D1</th>\n",
       "      <th>D2</th>\n",
       "      <th>D3</th>\n",
       "      <th>D4</th>\n",
       "      <th>D5</th>\n",
       "      <th>D6</th>\n",
       "      <th>D7</th>\n",
       "      <th>D8</th>\n",
       "      <th>D9</th>\n",
       "      <th>...</th>\n",
       "      <th>D1767</th>\n",
       "      <th>D1768</th>\n",
       "      <th>D1769</th>\n",
       "      <th>D1770</th>\n",
       "      <th>D1771</th>\n",
       "      <th>D1772</th>\n",
       "      <th>D1773</th>\n",
       "      <th>D1774</th>\n",
       "      <th>D1775</th>\n",
       "      <th>D1776</th>\n",
       "    </tr>\n",
       "  </thead>\n",
       "  <tbody>\n",
       "    <tr>\n",
       "      <th>0</th>\n",
       "      <td>1</td>\n",
       "      <td>0.000000</td>\n",
       "      <td>0.497009</td>\n",
       "      <td>0.10</td>\n",
       "      <td>0.0</td>\n",
       "      <td>0.132956</td>\n",
       "      <td>0.678031</td>\n",
       "      <td>0.273166</td>\n",
       "      <td>0.585445</td>\n",
       "      <td>0.743663</td>\n",
       "      <td>...</td>\n",
       "      <td>0</td>\n",
       "      <td>0</td>\n",
       "      <td>0</td>\n",
       "      <td>0</td>\n",
       "      <td>0</td>\n",
       "      <td>0</td>\n",
       "      <td>0</td>\n",
       "      <td>0</td>\n",
       "      <td>0</td>\n",
       "      <td>0</td>\n",
       "    </tr>\n",
       "    <tr>\n",
       "      <th>1</th>\n",
       "      <td>1</td>\n",
       "      <td>0.366667</td>\n",
       "      <td>0.606291</td>\n",
       "      <td>0.05</td>\n",
       "      <td>0.0</td>\n",
       "      <td>0.111209</td>\n",
       "      <td>0.803455</td>\n",
       "      <td>0.106105</td>\n",
       "      <td>0.411754</td>\n",
       "      <td>0.836582</td>\n",
       "      <td>...</td>\n",
       "      <td>1</td>\n",
       "      <td>1</td>\n",
       "      <td>1</td>\n",
       "      <td>1</td>\n",
       "      <td>0</td>\n",
       "      <td>1</td>\n",
       "      <td>0</td>\n",
       "      <td>0</td>\n",
       "      <td>1</td>\n",
       "      <td>0</td>\n",
       "    </tr>\n",
       "    <tr>\n",
       "      <th>2</th>\n",
       "      <td>1</td>\n",
       "      <td>0.033300</td>\n",
       "      <td>0.480124</td>\n",
       "      <td>0.00</td>\n",
       "      <td>0.0</td>\n",
       "      <td>0.209791</td>\n",
       "      <td>0.610350</td>\n",
       "      <td>0.356453</td>\n",
       "      <td>0.517720</td>\n",
       "      <td>0.679051</td>\n",
       "      <td>...</td>\n",
       "      <td>0</td>\n",
       "      <td>0</td>\n",
       "      <td>0</td>\n",
       "      <td>0</td>\n",
       "      <td>0</td>\n",
       "      <td>0</td>\n",
       "      <td>0</td>\n",
       "      <td>0</td>\n",
       "      <td>0</td>\n",
       "      <td>0</td>\n",
       "    </tr>\n",
       "    <tr>\n",
       "      <th>3</th>\n",
       "      <td>1</td>\n",
       "      <td>0.000000</td>\n",
       "      <td>0.538825</td>\n",
       "      <td>0.00</td>\n",
       "      <td>0.5</td>\n",
       "      <td>0.196344</td>\n",
       "      <td>0.724230</td>\n",
       "      <td>0.235606</td>\n",
       "      <td>0.288764</td>\n",
       "      <td>0.805110</td>\n",
       "      <td>...</td>\n",
       "      <td>0</td>\n",
       "      <td>0</td>\n",
       "      <td>0</td>\n",
       "      <td>0</td>\n",
       "      <td>0</td>\n",
       "      <td>0</td>\n",
       "      <td>0</td>\n",
       "      <td>0</td>\n",
       "      <td>0</td>\n",
       "      <td>0</td>\n",
       "    </tr>\n",
       "    <tr>\n",
       "      <th>4</th>\n",
       "      <td>0</td>\n",
       "      <td>0.100000</td>\n",
       "      <td>0.517794</td>\n",
       "      <td>0.00</td>\n",
       "      <td>0.0</td>\n",
       "      <td>0.494734</td>\n",
       "      <td>0.781422</td>\n",
       "      <td>0.154361</td>\n",
       "      <td>0.303809</td>\n",
       "      <td>0.812646</td>\n",
       "      <td>...</td>\n",
       "      <td>0</td>\n",
       "      <td>0</td>\n",
       "      <td>0</td>\n",
       "      <td>0</td>\n",
       "      <td>0</td>\n",
       "      <td>0</td>\n",
       "      <td>0</td>\n",
       "      <td>0</td>\n",
       "      <td>0</td>\n",
       "      <td>0</td>\n",
       "    </tr>\n",
       "  </tbody>\n",
       "</table>\n",
       "<p>5 rows × 1777 columns</p>\n",
       "</div>"
      ],
      "text/plain": [
       "   Activity        D1        D2    D3   D4        D5        D6        D7  \\\n",
       "0         1  0.000000  0.497009  0.10  0.0  0.132956  0.678031  0.273166   \n",
       "1         1  0.366667  0.606291  0.05  0.0  0.111209  0.803455  0.106105   \n",
       "2         1  0.033300  0.480124  0.00  0.0  0.209791  0.610350  0.356453   \n",
       "3         1  0.000000  0.538825  0.00  0.5  0.196344  0.724230  0.235606   \n",
       "4         0  0.100000  0.517794  0.00  0.0  0.494734  0.781422  0.154361   \n",
       "\n",
       "         D8        D9  ...  D1767  D1768  D1769  D1770  D1771  D1772  D1773  \\\n",
       "0  0.585445  0.743663  ...      0      0      0      0      0      0      0   \n",
       "1  0.411754  0.836582  ...      1      1      1      1      0      1      0   \n",
       "2  0.517720  0.679051  ...      0      0      0      0      0      0      0   \n",
       "3  0.288764  0.805110  ...      0      0      0      0      0      0      0   \n",
       "4  0.303809  0.812646  ...      0      0      0      0      0      0      0   \n",
       "\n",
       "   D1774  D1775  D1776  \n",
       "0      0      0      0  \n",
       "1      0      1      0  \n",
       "2      0      0      0  \n",
       "3      0      0      0  \n",
       "4      0      0      0  \n",
       "\n",
       "[5 rows x 1777 columns]"
      ]
     },
     "execution_count": 55,
     "metadata": {},
     "output_type": "execute_result"
    }
   ],
   "source": [
    "data = pd.read_csv('data/_train_sem09.csv')\n",
    "data.head()"
   ]
  },
  {
   "cell_type": "code",
   "execution_count": 56,
   "metadata": {},
   "outputs": [
    {
     "data": {
      "text/plain": [
       "(3751, 1777)"
      ]
     },
     "execution_count": 56,
     "metadata": {},
     "output_type": "execute_result"
    }
   ],
   "source": [
    "data.shape"
   ]
  },
  {
   "attachments": {},
   "cell_type": "markdown",
   "metadata": {},
   "source": [
    "##### Первый столбец Activity содержит экспериментальные данные, описывающие фактический биологический ответ [0, 1]; \n",
    "##### Остальные столбцы D1-D1776 представляют собой молекулярные дескрипторы — это вычисляемые свойства, которые могут фиксировать некоторые характеристики молекулы, например размер, форму или состав элементов\n",
    "##### Предварительная обработка не требуется, данные уже закодированы и нормализованы.\n",
    "##### В качестве метрики будем использовать F1-score.\n",
    "##### Необходимо обучить две модели: логистическую регрессию и случайный лес. Далее нужно сделать подбор гиперпараметров с помощью базовых и продвинутых методов оптимизации. Важно использовать все четыре метода (GridSeachCV, RandomizedSearchCV, Hyperopt, Optuna) хотя бы по разу, максимальное количество итераций не должно превышать 50."
   ]
  },
  {
   "cell_type": "code",
   "execution_count": 57,
   "metadata": {},
   "outputs": [],
   "source": [
    "#Создаем матрицу наблюдений X и столбец с ответами y\n",
    "X = data.drop('Activity', axis=1)\n",
    "Y = data['Activity']"
   ]
  },
  {
   "cell_type": "code",
   "execution_count": 58,
   "metadata": {},
   "outputs": [
    {
     "name": "stdout",
     "output_type": "stream",
     "text": [
      "Train shape: (3000, 1776)\n",
      "Test shape: (751, 1776)\n"
     ]
    }
   ],
   "source": [
    "#Создаем тренировочную и тестовую выборки с помощью train_test_split\n",
    "X_train, X_test, Y_train, Y_test = train_test_split(\n",
    "    X, Y, #таблица с наблюдениями и столбец с правильным ответами\n",
    "    test_size=0.2, #размер тестовой выборки\n",
    "    random_state=40 #число отвечающее за генерацию случайных чисел\n",
    ")\n",
    "#Выводим размеры полученных выборок\n",
    "print('Train shape: {}'.format(X_train.shape))\n",
    "print('Test shape: {}'.format(X_test.shape))"
   ]
  },
  {
   "attachments": {},
   "cell_type": "markdown",
   "metadata": {},
   "source": [
    "##### Обучение модели Логистическая регрессия"
   ]
  },
  {
   "cell_type": "code",
   "execution_count": 59,
   "metadata": {},
   "outputs": [
    {
     "name": "stdout",
     "output_type": "stream",
     "text": [
      "              precision    recall  f1-score   support\n",
      "\n",
      "           0       0.75      0.71      0.73       359\n",
      "           1       0.74      0.78      0.76       392\n",
      "\n",
      "    accuracy                           0.75       751\n",
      "   macro avg       0.75      0.74      0.74       751\n",
      "weighted avg       0.75      0.75      0.75       751\n",
      "\n",
      "F1_score Логистической регрессии: 0.76\n"
     ]
    }
   ],
   "source": [
    "#Создаем объект класса логистическая регрессия\n",
    "log_reg = linear_model.LogisticRegression(random_state=42, max_iter=500)\n",
    "\n",
    "log_reg.fit(X_train, Y_train) #Обучаем модель\n",
    "Y_lr_pred = log_reg.predict(X_test) #Делаем предсказание на тестовой выборке\n",
    "print(metrics.classification_report(Y_test, Y_lr_pred))\n",
    "print('F1_score Логистической регрессии: {:.2f}'.format(metrics.f1_score(Y_test, Y_lr_pred)))"
   ]
  },
  {
   "attachments": {},
   "cell_type": "markdown",
   "metadata": {},
   "source": [
    "##### Обучение модели Случайный лес"
   ]
  },
  {
   "cell_type": "code",
   "execution_count": 60,
   "metadata": {},
   "outputs": [
    {
     "name": "stdout",
     "output_type": "stream",
     "text": [
      "              precision    recall  f1-score   support\n",
      "\n",
      "           0       0.81      0.78      0.80       359\n",
      "           1       0.81      0.83      0.82       392\n",
      "\n",
      "    accuracy                           0.81       751\n",
      "   macro avg       0.81      0.81      0.81       751\n",
      "weighted avg       0.81      0.81      0.81       751\n",
      "\n",
      "F1_score модели Случайный лес: 0.82\n"
     ]
    }
   ],
   "source": [
    "rand_clf = ensemble.RandomForestClassifier(random_state=42) #модель RandomForest без параметров (только random_state для воспроизводимости)\n",
    "rand_clf.fit(X_train, Y_train)\n",
    "Y_rf_pred = rand_clf.predict(X_test)\n",
    "#Выводим отчет о метриках\n",
    "print(metrics.classification_report(Y_test, Y_rf_pred))\n",
    "print('F1_score модели Случайный лес: {:.2f}'.format(metrics.f1_score(Y_test, Y_rf_pred)))"
   ]
  },
  {
   "attachments": {},
   "cell_type": "markdown",
   "metadata": {},
   "source": [
    "##### Оптимизация параметров модели Логистической регрессии с помощью Grid Search"
   ]
  },
  {
   "cell_type": "code",
   "execution_count": 61,
   "metadata": {},
   "outputs": [],
   "source": [
    "from sklearn.model_selection import GridSearchCV"
   ]
  },
  {
   "cell_type": "code",
   "execution_count": 62,
   "metadata": {},
   "outputs": [
    {
     "name": "stderr",
     "output_type": "stream",
     "text": [
      "c:\\Users\\olgav\\anaconda3\\lib\\site-packages\\sklearn\\linear_model\\_sag.py:352: ConvergenceWarning: The max_iter was reached which means the coef_ did not converge\n",
      "  warnings.warn(\n",
      "c:\\Users\\olgav\\anaconda3\\lib\\site-packages\\sklearn\\linear_model\\_sag.py:352: ConvergenceWarning: The max_iter was reached which means the coef_ did not converge\n",
      "  warnings.warn(\n",
      "c:\\Users\\olgav\\anaconda3\\lib\\site-packages\\sklearn\\linear_model\\_sag.py:352: ConvergenceWarning: The max_iter was reached which means the coef_ did not converge\n",
      "  warnings.warn(\n",
      "c:\\Users\\olgav\\anaconda3\\lib\\site-packages\\sklearn\\linear_model\\_sag.py:352: ConvergenceWarning: The max_iter was reached which means the coef_ did not converge\n",
      "  warnings.warn(\n",
      "c:\\Users\\olgav\\anaconda3\\lib\\site-packages\\sklearn\\linear_model\\_sag.py:352: ConvergenceWarning: The max_iter was reached which means the coef_ did not converge\n",
      "  warnings.warn(\n",
      "c:\\Users\\olgav\\anaconda3\\lib\\site-packages\\sklearn\\linear_model\\_logistic.py:814: ConvergenceWarning: lbfgs failed to converge (status=1):\n",
      "STOP: TOTAL NO. of ITERATIONS REACHED LIMIT.\n",
      "\n",
      "Increase the number of iterations (max_iter) or scale the data as shown in:\n",
      "    https://scikit-learn.org/stable/modules/preprocessing.html\n",
      "Please also refer to the documentation for alternative solver options:\n",
      "    https://scikit-learn.org/stable/modules/linear_model.html#logistic-regression\n",
      "  n_iter_i = _check_optimize_result(\n",
      "c:\\Users\\olgav\\anaconda3\\lib\\site-packages\\sklearn\\linear_model\\_logistic.py:814: ConvergenceWarning: lbfgs failed to converge (status=1):\n",
      "STOP: TOTAL NO. of ITERATIONS REACHED LIMIT.\n",
      "\n",
      "Increase the number of iterations (max_iter) or scale the data as shown in:\n",
      "    https://scikit-learn.org/stable/modules/preprocessing.html\n",
      "Please also refer to the documentation for alternative solver options:\n",
      "    https://scikit-learn.org/stable/modules/linear_model.html#logistic-regression\n",
      "  n_iter_i = _check_optimize_result(\n",
      "c:\\Users\\olgav\\anaconda3\\lib\\site-packages\\sklearn\\linear_model\\_logistic.py:814: ConvergenceWarning: lbfgs failed to converge (status=1):\n",
      "STOP: TOTAL NO. of ITERATIONS REACHED LIMIT.\n",
      "\n",
      "Increase the number of iterations (max_iter) or scale the data as shown in:\n",
      "    https://scikit-learn.org/stable/modules/preprocessing.html\n",
      "Please also refer to the documentation for alternative solver options:\n",
      "    https://scikit-learn.org/stable/modules/linear_model.html#logistic-regression\n",
      "  n_iter_i = _check_optimize_result(\n",
      "c:\\Users\\olgav\\anaconda3\\lib\\site-packages\\sklearn\\linear_model\\_logistic.py:814: ConvergenceWarning: lbfgs failed to converge (status=1):\n",
      "STOP: TOTAL NO. of ITERATIONS REACHED LIMIT.\n",
      "\n",
      "Increase the number of iterations (max_iter) or scale the data as shown in:\n",
      "    https://scikit-learn.org/stable/modules/preprocessing.html\n",
      "Please also refer to the documentation for alternative solver options:\n",
      "    https://scikit-learn.org/stable/modules/linear_model.html#logistic-regression\n",
      "  n_iter_i = _check_optimize_result(\n",
      "c:\\Users\\olgav\\anaconda3\\lib\\site-packages\\sklearn\\linear_model\\_logistic.py:814: ConvergenceWarning: lbfgs failed to converge (status=1):\n",
      "STOP: TOTAL NO. of ITERATIONS REACHED LIMIT.\n",
      "\n",
      "Increase the number of iterations (max_iter) or scale the data as shown in:\n",
      "    https://scikit-learn.org/stable/modules/preprocessing.html\n",
      "Please also refer to the documentation for alternative solver options:\n",
      "    https://scikit-learn.org/stable/modules/linear_model.html#logistic-regression\n",
      "  n_iter_i = _check_optimize_result(\n",
      "c:\\Users\\olgav\\anaconda3\\lib\\site-packages\\sklearn\\linear_model\\_sag.py:352: ConvergenceWarning: The max_iter was reached which means the coef_ did not converge\n",
      "  warnings.warn(\n",
      "c:\\Users\\olgav\\anaconda3\\lib\\site-packages\\sklearn\\linear_model\\_sag.py:352: ConvergenceWarning: The max_iter was reached which means the coef_ did not converge\n",
      "  warnings.warn(\n",
      "c:\\Users\\olgav\\anaconda3\\lib\\site-packages\\sklearn\\linear_model\\_sag.py:352: ConvergenceWarning: The max_iter was reached which means the coef_ did not converge\n",
      "  warnings.warn(\n",
      "c:\\Users\\olgav\\anaconda3\\lib\\site-packages\\sklearn\\linear_model\\_sag.py:352: ConvergenceWarning: The max_iter was reached which means the coef_ did not converge\n",
      "  warnings.warn(\n",
      "c:\\Users\\olgav\\anaconda3\\lib\\site-packages\\sklearn\\linear_model\\_sag.py:352: ConvergenceWarning: The max_iter was reached which means the coef_ did not converge\n",
      "  warnings.warn(\n",
      "c:\\Users\\olgav\\anaconda3\\lib\\site-packages\\sklearn\\linear_model\\_sag.py:352: ConvergenceWarning: The max_iter was reached which means the coef_ did not converge\n",
      "  warnings.warn(\n"
     ]
    },
    {
     "data": {
      "text/plain": [
       "GridSearchCV(cv=5, estimator=LogisticRegression(max_iter=500, random_state=42),\n",
       "             param_grid={'penalty': ['l2', 'none'],\n",
       "                         'solver': ['lbfgs', 'saga']})"
      ]
     },
     "execution_count": 62,
     "metadata": {},
     "output_type": "execute_result"
    }
   ],
   "source": [
    "parametrs1= {'penalty': ['l2', 'none'] ,#тип регурялизации\n",
    "              'solver': ['lbfgs', 'saga'], #алгоритм оптимизации\n",
    "              }\n",
    "\n",
    "grid1 = GridSearchCV (log_reg, parametrs1, cv=5 )  #запускаем обучение\n",
    "grid1.fit(X_train,Y_train)"
   ]
  },
  {
   "cell_type": "code",
   "execution_count": 63,
   "metadata": {},
   "outputs": [
    {
     "data": {
      "text/plain": [
       "{'penalty': 'l2', 'solver': 'saga'}"
      ]
     },
     "execution_count": 63,
     "metadata": {},
     "output_type": "execute_result"
    }
   ],
   "source": [
    "grid1.best_params_  # выводим результат"
   ]
  },
  {
   "cell_type": "code",
   "execution_count": 64,
   "metadata": {},
   "outputs": [
    {
     "name": "stdout",
     "output_type": "stream",
     "text": [
      "Наилучшая модель:\n",
      "LogisticRegression(max_iter=500, random_state=42, solver='saga')\n"
     ]
    }
   ],
   "source": [
    "print(\"Наилучшая модель:\\n{}\".format(grid1.best_estimator_))"
   ]
  },
  {
   "cell_type": "code",
   "execution_count": 65,
   "metadata": {},
   "outputs": [
    {
     "name": "stdout",
     "output_type": "stream",
     "text": [
      "              precision    recall  f1-score   support\n",
      "\n",
      "           0       0.75      0.71      0.73       359\n",
      "           1       0.74      0.78      0.76       392\n",
      "\n",
      "    accuracy                           0.75       751\n",
      "   macro avg       0.75      0.74      0.74       751\n",
      "weighted avg       0.75      0.75      0.75       751\n",
      "\n",
      "F1_score Логистической регрессии: 0.76\n"
     ]
    }
   ],
   "source": [
    "log_reg1 = linear_model.LogisticRegression(random_state=42, max_iter=1000)\n",
    "log_reg1.fit(X_train, Y_train) #Обучаем модель\n",
    "Y_lr_pred1 = log_reg1.predict(X_test) #Делаем предсказание на тестовой выборке\n",
    "print(metrics.classification_report(Y_test, Y_lr_pred1))\n",
    "print('F1_score Логистической регрессии: {:.2f}'.format(metrics.f1_score(Y_test, Y_lr_pred1)))"
   ]
  },
  {
   "attachments": {},
   "cell_type": "markdown",
   "metadata": {},
   "source": [
    "##### F1 = 0.76 после Grid Search оптимизации параметров во модели логистической регрессии. В модели с параметрами по умолчанию F1 был равен 0.76 (результат такой же как и в модели по умолчанию)"
   ]
  },
  {
   "attachments": {},
   "cell_type": "markdown",
   "metadata": {},
   "source": [
    "##### Оптимизация параметров модели Случайный лес с помощью Grid Search"
   ]
  },
  {
   "cell_type": "code",
   "execution_count": 66,
   "metadata": {},
   "outputs": [
    {
     "data": {
      "text/plain": [
       "GridSearchCV(cv=5, estimator=RandomForestClassifier(random_state=42),\n",
       "             param_grid={'max_depth': range(1, 13, 2),\n",
       "                         'min_samples_leaf': range(1, 8),\n",
       "                         'min_samples_split': range(2, 10, 2),\n",
       "                         'n_estimators': range(10, 51, 10)})"
      ]
     },
     "execution_count": 66,
     "metadata": {},
     "output_type": "execute_result"
    }
   ],
   "source": [
    "parametrs = { 'n_estimators': range (10, 51, 10), \n",
    "              'max_depth': range (1,13, 2),\n",
    "              'min_samples_leaf': range (1,8),\n",
    "              'min_samples_split': range (2,10,2) }\n",
    "\n",
    "grid = GridSearchCV(rand_clf, parametrs, cv=5) #запускаем обучение\n",
    "grid.fit(X_train,Y_train)"
   ]
  },
  {
   "cell_type": "code",
   "execution_count": 67,
   "metadata": {},
   "outputs": [
    {
     "data": {
      "text/plain": [
       "{'max_depth': 11,\n",
       " 'min_samples_leaf': 1,\n",
       " 'min_samples_split': 2,\n",
       " 'n_estimators': 50}"
      ]
     },
     "execution_count": 67,
     "metadata": {},
     "output_type": "execute_result"
    }
   ],
   "source": [
    "grid.best_params_  # выводим результат\n"
   ]
  },
  {
   "cell_type": "code",
   "execution_count": 68,
   "metadata": {},
   "outputs": [
    {
     "name": "stdout",
     "output_type": "stream",
     "text": [
      "Наилучшая модель:\n",
      "RandomForestClassifier(max_depth=11, n_estimators=50, random_state=42)\n"
     ]
    }
   ],
   "source": [
    "print(\"Наилучшая модель:\\n{}\".format(grid.best_estimator_))"
   ]
  },
  {
   "cell_type": "code",
   "execution_count": 69,
   "metadata": {},
   "outputs": [
    {
     "name": "stdout",
     "output_type": "stream",
     "text": [
      "              precision    recall  f1-score   support\n",
      "\n",
      "           0       0.80      0.75      0.77       359\n",
      "           1       0.78      0.82      0.80       392\n",
      "\n",
      "    accuracy                           0.79       751\n",
      "   macro avg       0.79      0.79      0.79       751\n",
      "weighted avg       0.79      0.79      0.79       751\n",
      "\n",
      "F1_score модели Случайный лес: 0.80\n"
     ]
    }
   ],
   "source": [
    "rand_clf = ensemble.RandomForestClassifier(max_depth=11, n_estimators=50, random_state=42) #запускаем модель с оптимальными параметрами\n",
    "rand_clf.fit(X_train, Y_train)\n",
    "Y_rf_pred = rand_clf.predict(X_test)\n",
    "#Выводим отчет о метриках\n",
    "print(metrics.classification_report(Y_test, Y_rf_pred))\n",
    "print('F1_score модели Случайный лес: {:.2f}'.format(metrics.f1_score(Y_test, Y_rf_pred)))"
   ]
  },
  {
   "attachments": {},
   "cell_type": "markdown",
   "metadata": {},
   "source": [
    "##### F1 = 0.8 после Grid Search оптимизации параметров в модели Случайный лес. В модели с параметрами по умолчанию F1 был равен 0.82 (странный результат)"
   ]
  },
  {
   "attachments": {},
   "cell_type": "markdown",
   "metadata": {},
   "source": [
    "#### Оптимизация гиперпараметров логистической регрессии с помощью RandomsizedSearchCV"
   ]
  },
  {
   "cell_type": "code",
   "execution_count": 70,
   "metadata": {},
   "outputs": [
    {
     "name": "stdout",
     "output_type": "stream",
     "text": [
      "              precision    recall  f1-score   support\n",
      "\n",
      "           0       0.75      0.71      0.73       359\n",
      "           1       0.74      0.78      0.76       392\n",
      "\n",
      "    accuracy                           0.75       751\n",
      "   macro avg       0.75      0.74      0.74       751\n",
      "weighted avg       0.75      0.75      0.75       751\n",
      "\n",
      "F1_score Логистической регрессии: 0.76\n"
     ]
    }
   ],
   "source": [
    "#Создаем объект класса логистическая регрессия\n",
    "log_reg = linear_model.LogisticRegression(random_state=42, max_iter=1000)\n",
    "\n",
    "log_reg.fit(X_train, Y_train) #Обучаем модель\n",
    "Y_lr_pred = log_reg.predict(X_test) #Делаем предсказание на тестовой выборке\n",
    "print(metrics.classification_report(Y_test, Y_lr_pred))\n",
    "print('F1_score Логистической регрессии: {:.2f}'.format(metrics.f1_score(Y_test, Y_lr_pred)))"
   ]
  },
  {
   "cell_type": "code",
   "execution_count": 71,
   "metadata": {},
   "outputs": [
    {
     "name": "stdout",
     "output_type": "stream",
     "text": [
      "CPU times: total: 2.25 s\n",
      "Wall time: 3min 20s\n",
      "accuracy на тестовом наборе: 0.75\n",
      "f1_score на тестовом наборе: 0.77\n",
      "Наилучшие значения гиперпараметров: {'solver': 'lbfgs', 'penalty': 'l2', 'C': 0.45}\n"
     ]
    }
   ],
   "source": [
    "from sklearn.model_selection import RandomizedSearchCV\n",
    "param_lr_2 = {'penalty': ['l2', 'none'] ,\n",
    "              'solver': ['lbfgs', 'sag'],\n",
    "               'C': list(np.linspace(0.01, 1, 10, dtype=float))},\n",
    "            \n",
    "random_search = RandomizedSearchCV(\n",
    "    estimator=linear_model.LogisticRegression(random_state=42, max_iter=1000), \n",
    "    param_distributions=param_lr_2, \n",
    "    cv=5, \n",
    "    n_iter = 10, \n",
    "    n_jobs = -1 )  \n",
    "%time random_search.fit(X_train, Y_train) \n",
    "print(\"accuracy на тестовом наборе: {:.2f}\".format(random_search.score(X_test, Y_test)))\n",
    "Y_test_pred = random_search.predict(X_test)\n",
    "print('f1_score на тестовом наборе: {:.2f}'.format(metrics.f1_score(Y_test, Y_test_pred)))\n",
    "print(\"Наилучшие значения гиперпараметров: {}\".format(random_search.best_params_))"
   ]
  },
  {
   "cell_type": "code",
   "execution_count": 72,
   "metadata": {},
   "outputs": [
    {
     "name": "stdout",
     "output_type": "stream",
     "text": [
      "Наилучшая модель:\n",
      "LogisticRegression(C=0.45, max_iter=1000, random_state=42)\n"
     ]
    }
   ],
   "source": [
    "print(\"Наилучшая модель:\\n{}\".format(random_search.best_estimator_))"
   ]
  },
  {
   "cell_type": "code",
   "execution_count": 73,
   "metadata": {},
   "outputs": [
    {
     "name": "stdout",
     "output_type": "stream",
     "text": [
      "              precision    recall  f1-score   support\n",
      "\n",
      "           0       0.75      0.70      0.73       359\n",
      "           1       0.74      0.79      0.76       392\n",
      "\n",
      "    accuracy                           0.75       751\n",
      "   macro avg       0.75      0.75      0.75       751\n",
      "weighted avg       0.75      0.75      0.75       751\n",
      "\n",
      "F1_score Логистической регрессии: 0.76\n"
     ]
    }
   ],
   "source": [
    "log_reg2 = linear_model.LogisticRegression(C=0.56, max_iter=1000, random_state=42, solver='sag')\n",
    "\n",
    "log_reg2.fit(X_train, Y_train) #Обучаем модель\n",
    "Y_lr_pred2 = log_reg2.predict(X_test) #Делаем предсказание на тестовой выборке\n",
    "print(metrics.classification_report(Y_test, Y_lr_pred2))\n",
    "print('F1_score Логистической регрессии: {:.2f}'.format(metrics.f1_score(Y_test, Y_lr_pred2)))"
   ]
  },
  {
   "attachments": {},
   "cell_type": "markdown",
   "metadata": {},
   "source": [
    "##### F1 = 0.76 после RandomSizedSearch оптимизации параметров во модели логистической регрессии. В модели с параметрами по умолчанию, а также после оптимизации Grid Search F1 был равен 0.76 (без изменений)"
   ]
  },
  {
   "attachments": {},
   "cell_type": "markdown",
   "metadata": {},
   "source": [
    "#### Оптимизация гиперпараметров модели Случайный лес с помощью RandomsizedSearchCV"
   ]
  },
  {
   "cell_type": "code",
   "execution_count": 74,
   "metadata": {},
   "outputs": [
    {
     "name": "stdout",
     "output_type": "stream",
     "text": [
      "F1_score модели Случайный лес: 0.80\n"
     ]
    }
   ],
   "source": [
    "rand_clf = ensemble.RandomForestClassifier(max_depth=11, n_estimators=50, random_state=42) # модель после потимизации Grid Search\n",
    "rand_clf.fit(X_train, Y_train)\n",
    "Y_rf_pred = rand_clf.predict(X_test)\n",
    "print('F1_score модели Случайный лес: {:.2f}'.format(metrics.f1_score(Y_test, Y_rf_pred)))"
   ]
  },
  {
   "cell_type": "code",
   "execution_count": 75,
   "metadata": {},
   "outputs": [
    {
     "name": "stdout",
     "output_type": "stream",
     "text": [
      "f1_score на тестовом наборе: 0.81\n",
      "Наилучшие значения гиперпараметров: {'n_estimators': 170, 'min_samples_leaf': 5, 'max_depth': 28}\n",
      "Наилучшая модель:\n",
      "RandomForestClassifier(max_depth=28, min_samples_leaf=5, n_estimators=170,\n",
      "                       random_state=42)\n"
     ]
    }
   ],
   "source": [
    "param_rf_2 = {'n_estimators': list(range(80, 200, 30)),\n",
    "              'min_samples_leaf': [5],\n",
    "              'max_depth': list(np.linspace(20, 40, 10, dtype=int)) }\n",
    "random_search_forest = RandomizedSearchCV(\n",
    "    estimator=ensemble.RandomForestClassifier(random_state=42), \n",
    "    param_distributions=param_rf_2, \n",
    "    cv=5,\n",
    "    n_iter = 10, \n",
    "    n_jobs = -1\n",
    ")  \n",
    "random_search_forest.fit(X_train, Y_train)\n",
    "Y_test_pred = random_search_forest.predict(X_test)\n",
    "print('f1_score на тестовом наборе: {:.2f}'.format(metrics.f1_score(Y_test, Y_test_pred)))\n",
    "print(\"Наилучшие значения гиперпараметров: {}\".format(random_search_forest.best_params_))  \n",
    "print(\"Наилучшая модель:\\n{}\".format(random_search_forest.best_estimator_))    "
   ]
  },
  {
   "attachments": {},
   "cell_type": "markdown",
   "metadata": {},
   "source": [
    "##### F1_score = 0.81 в модели Случайный лес, он увеличился посли RandomSizedSearch оптимизации"
   ]
  },
  {
   "attachments": {},
   "cell_type": "markdown",
   "metadata": {},
   "source": [
    "##### Кросс-валидация KFold"
   ]
  },
  {
   "attachments": {},
   "cell_type": "markdown",
   "metadata": {},
   "source": [
    "### ML7 - Оптимизация гиперпараметров"
   ]
  },
  {
   "cell_type": "code",
   "execution_count": 76,
   "metadata": {},
   "outputs": [],
   "source": [
    "from sklearn import model_selection #методы разделения и валидации\n",
    "#наилучшая модель от RandomSizedSearchCV\n",
    "model = ensemble.RandomForestClassifier(max_depth=20, min_samples_leaf=5, n_estimators=140,random_state=42)\n",
    "#Создаём объект кросс-валидатора KFold\n",
    "kf = model_selection.KFold(n_splits=5)\n",
    "\n",
    "#Создаём список для хранения тренировочных и валидационных метрик\n",
    "train_metrics = []\n",
    "val_metrics = []\n",
    "#Организуем цикл для кросс-валидации (используем весь набор данных)\n",
    "#train_index — индексы тренировочной выборки\n",
    "#valid_index — индексы валидационной выборки\n",
    "for train_index, valid_index in kf.split(X, Y): \n",
    "    #Создаём тренировочную и валидационную выборку, обращаясь по текущим индексам\n",
    "    X_train, Y_train = X.iloc[train_index], Y.iloc[train_index]\n",
    "    X_valid, Y_valid = X.iloc[valid_index], Y.iloc[valid_index]\n",
    "    #Обучаем случайный лес на тренировочной выборке\n",
    "    model.fit(X_train, Y_train)\n",
    "    #Делаем предсказание для каждой из выборок\n",
    "    Y_train_pred = model.predict(X_train)\n",
    "    Y_valid_pred = model.predict(X_valid)\n",
    "    #Рассчитываем метрику и заносим её в список\n",
    "    train_metrics.append(metrics.f1_score(Y_train, Y_train_pred))\n",
    "    val_metrics.append(metrics.f1_score(Y_valid, Y_valid_pred))"
   ]
  },
  {
   "cell_type": "code",
   "execution_count": 77,
   "metadata": {},
   "outputs": [
    {
     "name": "stdout",
     "output_type": "stream",
     "text": [
      "[0.9395931142410014, 0.9396215079603484, 0.9410681399631676, 0.9448110377924415, 0.9453219927095992]\n",
      "[0.8158508158508159, 0.8069306930693068, 0.7906976744186047, 0.8141592920353982, 0.8155339805825244]\n"
     ]
    }
   ],
   "source": [
    "print(train_metrics)\n",
    "print(val_metrics)"
   ]
  },
  {
   "cell_type": "code",
   "execution_count": 78,
   "metadata": {},
   "outputs": [
    {
     "name": "stdout",
     "output_type": "stream",
     "text": [
      "Train k-fold mean F1: 0.94\n",
      "Valid k-fold mean F1: 0.81\n"
     ]
    }
   ],
   "source": [
    "print('Train k-fold mean F1: {:.2f}'.format(np.mean(train_metrics)))\n",
    "print('Valid k-fold mean F1: {:.2f}'.format(np.mean(val_metrics)))"
   ]
  },
  {
   "attachments": {},
   "cell_type": "markdown",
   "metadata": {},
   "source": [
    "##### Оптимизация параметров OPTUNA для модели Случайный лес"
   ]
  },
  {
   "cell_type": "code",
   "execution_count": 79,
   "metadata": {},
   "outputs": [
    {
     "name": "stdout",
     "output_type": "stream",
     "text": [
      "Версия Optuna: 3.1.0\n"
     ]
    }
   ],
   "source": [
    "import optuna\n",
    "print(\"Версия Optuna: {}\".format(optuna.__version__))"
   ]
  },
  {
   "cell_type": "code",
   "execution_count": 80,
   "metadata": {},
   "outputs": [],
   "source": [
    "random_state=42\n",
    "def optuna_rf(trial):\n",
    "  # задаем пространства поиска гиперпараметров\n",
    "  n_estimators = trial.suggest_int('n_estimators', 100, 200, 1)\n",
    "  max_depth = trial.suggest_int('max_depth', 10, 30, 1)\n",
    "  min_samples_leaf = trial.suggest_int('min_samples_leaf', 2, 10, 1)\n",
    "  # создаем модель\n",
    "  model = ensemble.RandomForestClassifier(n_estimators=n_estimators,\n",
    "                                          max_depth=max_depth,\n",
    "                                          min_samples_leaf=min_samples_leaf,\n",
    "                                          random_state=random_state)\n",
    "  # обучаем модель\n",
    "  model.fit(X_train, Y_train)\n",
    "  score = metrics.f1_score(Y_train, model.predict(X_train))\n",
    "  return score"
   ]
  },
  {
   "cell_type": "code",
   "execution_count": 81,
   "metadata": {},
   "outputs": [
    {
     "name": "stderr",
     "output_type": "stream",
     "text": [
      "\u001b[32m[I 2023-02-24 13:18:40,945]\u001b[0m A new study created in memory with name: RandomForestClassifier\u001b[0m\n",
      "\u001b[32m[I 2023-02-24 13:18:43,528]\u001b[0m Trial 0 finished with value: 0.9124198962465669 and parameters: {'n_estimators': 188, 'max_depth': 13, 'min_samples_leaf': 7}. Best is trial 0 with value: 0.9124198962465669.\u001b[0m\n",
      "\u001b[32m[I 2023-02-24 13:18:45,586]\u001b[0m Trial 1 finished with value: 0.8939532057125493 and parameters: {'n_estimators': 166, 'max_depth': 12, 'min_samples_leaf': 10}. Best is trial 0 with value: 0.9124198962465669.\u001b[0m\n",
      "\u001b[32m[I 2023-02-24 13:18:47,784]\u001b[0m Trial 2 finished with value: 0.9262195121951219 and parameters: {'n_estimators': 150, 'max_depth': 14, 'min_samples_leaf': 6}. Best is trial 2 with value: 0.9262195121951219.\u001b[0m\n",
      "\u001b[32m[I 2023-02-24 13:18:50,921]\u001b[0m Trial 3 finished with value: 0.9801768831960964 and parameters: {'n_estimators': 187, 'max_depth': 23, 'min_samples_leaf': 3}. Best is trial 3 with value: 0.9801768831960964.\u001b[0m\n",
      "\u001b[32m[I 2023-02-24 13:18:52,726]\u001b[0m Trial 4 finished with value: 0.9011522134627047 and parameters: {'n_estimators': 139, 'max_depth': 27, 'min_samples_leaf': 10}. Best is trial 3 with value: 0.9801768831960964.\u001b[0m\n",
      "\u001b[32m[I 2023-02-24 13:18:54,866]\u001b[0m Trial 5 finished with value: 0.892607240644965 and parameters: {'n_estimators': 174, 'max_depth': 12, 'min_samples_leaf': 10}. Best is trial 3 with value: 0.9801768831960964.\u001b[0m\n",
      "\u001b[32m[I 2023-02-24 13:18:56,614]\u001b[0m Trial 6 finished with value: 0.9014255383682136 and parameters: {'n_estimators': 133, 'max_depth': 21, 'min_samples_leaf': 10}. Best is trial 3 with value: 0.9801768831960964.\u001b[0m\n",
      "\u001b[32m[I 2023-02-24 13:18:59,447]\u001b[0m Trial 7 finished with value: 0.9190997566909976 and parameters: {'n_estimators': 196, 'max_depth': 15, 'min_samples_leaf': 7}. Best is trial 3 with value: 0.9801768831960964.\u001b[0m\n",
      "\u001b[32m[I 2023-02-24 13:19:00,924]\u001b[0m Trial 8 finished with value: 0.9144075540664026 and parameters: {'n_estimators': 107, 'max_depth': 15, 'min_samples_leaf': 8}. Best is trial 3 with value: 0.9801768831960964.\u001b[0m\n",
      "\u001b[32m[I 2023-02-24 13:19:03,238]\u001b[0m Trial 9 finished with value: 0.9683120048750761 and parameters: {'n_estimators': 147, 'max_depth': 16, 'min_samples_leaf': 3}. Best is trial 3 with value: 0.9801768831960964.\u001b[0m\n",
      "\u001b[32m[I 2023-02-24 13:19:06,217]\u001b[0m Trial 10 finished with value: 0.9914529914529914 and parameters: {'n_estimators': 172, 'max_depth': 30, 'min_samples_leaf': 2}. Best is trial 10 with value: 0.9914529914529914.\u001b[0m\n",
      "\u001b[32m[I 2023-02-24 13:19:09,280]\u001b[0m Trial 11 finished with value: 0.9914529914529914 and parameters: {'n_estimators': 174, 'max_depth': 30, 'min_samples_leaf': 2}. Best is trial 10 with value: 0.9914529914529914.\u001b[0m\n",
      "\u001b[32m[I 2023-02-24 13:19:12,151]\u001b[0m Trial 12 finished with value: 0.9914529914529914 and parameters: {'n_estimators': 167, 'max_depth': 30, 'min_samples_leaf': 2}. Best is trial 10 with value: 0.9914529914529914.\u001b[0m\n",
      "\u001b[32m[I 2023-02-24 13:19:14,750]\u001b[0m Trial 13 finished with value: 0.9425007605719502 and parameters: {'n_estimators': 175, 'max_depth': 30, 'min_samples_leaf': 5}. Best is trial 10 with value: 0.9914529914529914.\u001b[0m\n",
      "\u001b[32m[I 2023-02-24 13:19:17,282]\u001b[0m Trial 14 finished with value: 0.9610231425091351 and parameters: {'n_estimators': 162, 'max_depth': 26, 'min_samples_leaf': 4}. Best is trial 10 with value: 0.9914529914529914.\u001b[0m\n"
     ]
    },
    {
     "name": "stdout",
     "output_type": "stream",
     "text": [
      "CPU times: total: 33.9 s\n",
      "Wall time: 36.3 s\n"
     ]
    }
   ],
   "source": [
    "%%time\n",
    "# cоздаем объект исследования\n",
    "# можем напрямую указать, что нам необходимо максимизировать метрику direction=\"maximize\"\n",
    "study = optuna.create_study(study_name=\"RandomForestClassifier\", direction=\"maximize\")\n",
    "# ищем лучшую комбинацию гиперпараметров n_trials раз\n",
    "study.optimize(optuna_rf, n_trials=15)"
   ]
  },
  {
   "cell_type": "code",
   "execution_count": 82,
   "metadata": {},
   "outputs": [
    {
     "name": "stdout",
     "output_type": "stream",
     "text": [
      "Наилучшие значения гиперпараметров {'n_estimators': 172, 'max_depth': 30, 'min_samples_leaf': 2}\n",
      "f1_score на обучающем наборе: 0.99\n"
     ]
    }
   ],
   "source": [
    "# выводим результаты на обучающей выборке\n",
    "print(\"Наилучшие значения гиперпараметров {}\".format(study.best_params))\n",
    "print(\"f1_score на обучающем наборе: {:.2f}\".format(study.best_value))"
   ]
  },
  {
   "cell_type": "code",
   "execution_count": 83,
   "metadata": {},
   "outputs": [
    {
     "name": "stdout",
     "output_type": "stream",
     "text": [
      "              precision    recall  f1-score   support\n",
      "\n",
      "           0       0.95      0.92      0.94       359\n",
      "           1       0.93      0.95      0.94       392\n",
      "\n",
      "    accuracy                           0.94       751\n",
      "   macro avg       0.94      0.94      0.94       751\n",
      "weighted avg       0.94      0.94      0.94       751\n",
      "\n",
      "F1_score модели Случайный лес: 0.94\n"
     ]
    }
   ],
   "source": [
    "rand_clf_3 = ensemble.RandomForestClassifier(max_depth=24, n_estimators=192, min_samples_leaf=2, random_state=42) \n",
    "rand_clf_3.fit(X_train, Y_train)\n",
    "Y_rf_pred_3 = rand_clf_3.predict(X_test)\n",
    "#Выводим отчет о метриках\n",
    "print(metrics.classification_report(Y_test, Y_rf_pred_3))\n",
    "print('F1_score модели Случайный лес: {:.2f}'.format(metrics.f1_score(Y_test, Y_rf_pred_3)))"
   ]
  },
  {
   "attachments": {},
   "cell_type": "markdown",
   "metadata": {},
   "source": [
    "##### OPTUNA для логистической регрессии"
   ]
  },
  {
   "cell_type": "code",
   "execution_count": 84,
   "metadata": {},
   "outputs": [],
   "source": [
    "def optuna_lr(trial):\n",
    "  # задаем пространства поиска гиперпараметров\n",
    " # multi_class='multinomial', #мультиклассовая классификация\n",
    "  max_iter = trial.suggest_int('max_iter', 500, 10000, 500)\n",
    "  random_state=42\n",
    "  # создаем модель\n",
    "  model = linear_model.LogisticRegression(max_iter=max_iter, random_state=random_state)\n",
    " # обучаем модель\n",
    "  model.fit(X_train, Y_train)\n",
    "  score = metrics.f1_score(Y_train, model.predict(X_train))\n",
    "  return score"
   ]
  },
  {
   "cell_type": "code",
   "execution_count": 85,
   "metadata": {},
   "outputs": [
    {
     "name": "stderr",
     "output_type": "stream",
     "text": [
      "\u001b[32m[I 2023-02-24 13:19:20,777]\u001b[0m A new study created in memory with name: LogisticsRegressionClassifier\u001b[0m\n",
      "\u001b[32m[I 2023-02-24 13:19:23,037]\u001b[0m Trial 0 finished with value: 0.8970321017565113 and parameters: {'max_iter': 5500}. Best is trial 0 with value: 0.8970321017565113.\u001b[0m\n",
      "\u001b[32m[I 2023-02-24 13:19:25,283]\u001b[0m Trial 1 finished with value: 0.8970321017565113 and parameters: {'max_iter': 5000}. Best is trial 0 with value: 0.8970321017565113.\u001b[0m\n",
      "\u001b[32m[I 2023-02-24 13:19:27,516]\u001b[0m Trial 2 finished with value: 0.8970321017565113 and parameters: {'max_iter': 6000}. Best is trial 0 with value: 0.8970321017565113.\u001b[0m\n",
      "\u001b[32m[I 2023-02-24 13:19:29,776]\u001b[0m Trial 3 finished with value: 0.8970321017565113 and parameters: {'max_iter': 500}. Best is trial 0 with value: 0.8970321017565113.\u001b[0m\n",
      "\u001b[32m[I 2023-02-24 13:19:32,036]\u001b[0m Trial 4 finished with value: 0.8970321017565113 and parameters: {'max_iter': 9000}. Best is trial 0 with value: 0.8970321017565113.\u001b[0m\n",
      "\u001b[32m[I 2023-02-24 13:19:34,278]\u001b[0m Trial 5 finished with value: 0.8970321017565113 and parameters: {'max_iter': 7000}. Best is trial 0 with value: 0.8970321017565113.\u001b[0m\n",
      "\u001b[32m[I 2023-02-24 13:19:36,667]\u001b[0m Trial 6 finished with value: 0.8970321017565113 and parameters: {'max_iter': 8000}. Best is trial 0 with value: 0.8970321017565113.\u001b[0m\n",
      "\u001b[32m[I 2023-02-24 13:19:38,963]\u001b[0m Trial 7 finished with value: 0.8970321017565113 and parameters: {'max_iter': 4500}. Best is trial 0 with value: 0.8970321017565113.\u001b[0m\n",
      "\u001b[32m[I 2023-02-24 13:19:41,232]\u001b[0m Trial 8 finished with value: 0.8970321017565113 and parameters: {'max_iter': 7000}. Best is trial 0 with value: 0.8970321017565113.\u001b[0m\n",
      "\u001b[32m[I 2023-02-24 13:19:43,462]\u001b[0m Trial 9 finished with value: 0.8970321017565113 and parameters: {'max_iter': 2500}. Best is trial 0 with value: 0.8970321017565113.\u001b[0m\n",
      "\u001b[32m[I 2023-02-24 13:19:45,762]\u001b[0m Trial 10 finished with value: 0.8970321017565113 and parameters: {'max_iter': 10000}. Best is trial 0 with value: 0.8970321017565113.\u001b[0m\n",
      "\u001b[32m[I 2023-02-24 13:19:48,007]\u001b[0m Trial 11 finished with value: 0.8970321017565113 and parameters: {'max_iter': 4000}. Best is trial 0 with value: 0.8970321017565113.\u001b[0m\n",
      "\u001b[32m[I 2023-02-24 13:19:50,302]\u001b[0m Trial 12 finished with value: 0.8970321017565113 and parameters: {'max_iter': 3000}. Best is trial 0 with value: 0.8970321017565113.\u001b[0m\n",
      "\u001b[32m[I 2023-02-24 13:19:52,678]\u001b[0m Trial 13 finished with value: 0.8970321017565113 and parameters: {'max_iter': 5500}. Best is trial 0 with value: 0.8970321017565113.\u001b[0m\n",
      "\u001b[32m[I 2023-02-24 13:19:55,019]\u001b[0m Trial 14 finished with value: 0.8970321017565113 and parameters: {'max_iter': 2000}. Best is trial 0 with value: 0.8970321017565113.\u001b[0m\n"
     ]
    },
    {
     "name": "stdout",
     "output_type": "stream",
     "text": [
      "CPU times: total: 32.5 s\n",
      "Wall time: 34.2 s\n"
     ]
    }
   ],
   "source": [
    "%%time\n",
    "# cоздаем объект исследования\n",
    "# можем напрямую указать, что нам необходимо максимизировать метрику direction=\"maximize\"\n",
    "study = optuna.create_study(study_name=\"LogisticsRegressionClassifier\", direction=\"maximize\")\n",
    "# ищем лучшую комбинацию гиперпараметров n_trials раз\n",
    "study.optimize(optuna_lr, n_trials=15)"
   ]
  },
  {
   "cell_type": "code",
   "execution_count": 86,
   "metadata": {},
   "outputs": [
    {
     "name": "stdout",
     "output_type": "stream",
     "text": [
      "Наилучшие значения гиперпараметров {'max_iter': 5500}\n",
      "f1_score на обучающем наборе: 0.90\n"
     ]
    }
   ],
   "source": [
    "print(\"Наилучшие значения гиперпараметров {}\".format(study.best_params))\n",
    "print(\"f1_score на обучающем наборе: {:.2f}\".format(study.best_value))"
   ]
  },
  {
   "attachments": {},
   "cell_type": "markdown",
   "metadata": {},
   "source": [
    "##### Оптимизация параметров с помощью Hyperopt"
   ]
  },
  {
   "cell_type": "code",
   "execution_count": 92,
   "metadata": {},
   "outputs": [
    {
     "name": "stdout",
     "output_type": "stream",
     "text": [
      "Версия Hyperopt : 0.2.7\n"
     ]
    }
   ],
   "source": [
    "#делаем импорт и выведем версию библиотеки\n",
    "from sklearn.model_selection import cross_val_score\n",
    "import numpy as np\n",
    "import hyperopt\n",
    "from hyperopt import hp, fmin, tpe, Trials\n",
    "# fmin - основная функция, она будет минимизировать наш функционал\n",
    "# tpe - алгоритм оптимизации\n",
    "# hp - включает набор методов для объявления пространства поиска гиперпараметров\n",
    "# trails - используется для логирования результатов\n",
    "\n",
    "print(\"Версия Hyperopt : {}\".format(hyperopt.__version__))\n"
   ]
  },
  {
   "cell_type": "code",
   "execution_count": 93,
   "metadata": {},
   "outputs": [],
   "source": [
    "# зададим пространство поиска гиперпараметров\n",
    "space={'n_estimators': hp.quniform('n_estimators', 100, 200, 1),\n",
    "       'max_depth' : hp.quniform('max_depth', 15, 26, 1),\n",
    "       'min_samples_leaf': hp.quniform('min_samples_leaf', 2, 10, 1)\n",
    "      }"
   ]
  },
  {
   "cell_type": "code",
   "execution_count": 95,
   "metadata": {},
   "outputs": [],
   "source": [
    "# зафксируем random_state\n",
    "random_state = 42\n",
    "def hyperopt_rf(params, cv=5, X=X_train, Y=Y_train, random_state=random_state):\n",
    "    # функция получает комбинацию гиперпараметров в \"params\"\n",
    "    params = space\n",
    "    \n",
    "    \n",
    "   # {'n_estimators': int(params['n_estimators']), \n",
    "   #           'max_depth': int(params['max_depth']), \n",
    "   #          'min_samples_leaf': int(params['min_samples_leaf'])\n",
    "#          }\n",
    "  \n",
    "    # используем эту комбинацию для построения модели\n",
    "    model = ensemble.RandomForestClassifier(**params, random_state=random_state)\n",
    "\n",
    "    # обучаем модель\n",
    "    model.fit(X, Y)\n",
    "    score = metrics.f1_score(Y, model.predict(X))\n",
    "\n",
    "    # метрику необходимо минимизировать, поэтому ставим знак минус\n",
    "    return -score"
   ]
  },
  {
   "cell_type": "code",
   "execution_count": null,
   "metadata": {},
   "outputs": [],
   "source": [
    "# запускаем hyperopt\n",
    "trials = Trials() # используется для логирования результатов\n",
    "best=fmin(hyperopt_rf, # наша функция \n",
    "          space=space, # пространство гиперпараметров\n",
    "          algo=tpe.suggest, # алгоритм оптимизации, установлен по умолчанию, задавать необязательно\n",
    "          max_evals=20, # максимальное количество итераций\n",
    "          trials=trials, # логирование результатов\n",
    "          rstate=random_state # фиксируем для повторяемости результата          \n",
    "         )\n",
    "print(\"Наилучшие значения гиперпараметров {}\".format(best))"
   ]
  },
  {
   "cell_type": "code",
   "execution_count": null,
   "metadata": {},
   "outputs": [],
   "source": [
    "# начинаем подбор гиперпараметров\n",
    "#%%time\n",
    "\n",
    "trials = Trials() # используется для логирования результатов\n",
    "\n",
    "best=fmin(hyperopt_rf, # наша функция \n",
    "          space=space, # пространство гиперпараметров\n",
    "          algo=tpe.suggest, # алгоритм оптимизации, установлен по умолчанию, задавать необязательно\n",
    "          max_evals=20, # максимальное количество итераций\n",
    "          trials=trials, # логирование результатов\n",
    "          rstate=random_state\n",
    "          #rstate=np.random.RandomState(random_state) # фиксируем для повторяемости результата\n",
    "         )\n",
    "print(\"Наилучшие значения гиперпараметров {}\".format(best))"
   ]
  },
  {
   "cell_type": "code",
   "execution_count": null,
   "metadata": {},
   "outputs": [],
   "source": [
    "# рассчитаем точность для тестовой выборки\n",
    "model = ensemble.RandomForestClassifier(\n",
    "    random_state=random_state, \n",
    "    n_estimators=int(best['n_estimators']),\n",
    "    max_depth=int(best['max_depth']),\n",
    "    min_samples_leaf=int(best['min_samples_leaf'])\n",
    ")\n",
    "model.fit(X_train_scaled, y_train)\n",
    "y_train_pred = model.predict(X_train_scaled)\n",
    "print('f1_score на обучающем наборе: {:.2f}'.format(metrics.f1_score(y_train, y_train_pred)))\n",
    "print(\"accuracy на тестовом наборе: {:.2f}\".format(model.score(X_test_scaled, y_test)))\n",
    "y_test_pred = model.predict(X_test_scaled)\n",
    "print('f1_score на тестовом наборе: {:.2f}'.format(metrics.f1_score(y_test, y_test_pred)))\n"
   ]
  },
  {
   "cell_type": "code",
   "execution_count": null,
   "metadata": {},
   "outputs": [],
   "source": [
    "# если необходимо продолжить подбор, \n",
    "# то увеличиваем max_evals(должен быть строго больше, чем на предыдущих итерациях) \n",
    "# и используем старый trials\n",
    "best=fmin(hyperopt_rf, # наша функция \n",
    "          space=space, # пространство гиперпараметров\n",
    "          algo=tpe.suggest, # алгоритм оптимизации, установлен по умолчанию, задавать необязательно\n",
    "          max_evals=23, # максимальное количество итераций\n",
    "          trials=trials, # логирование результатов\n",
    "          rstate=np.random.RandomState(random_state)# фиксируем для повторяемости результата\n",
    "         )\n",
    "print(\"Наилучшие значения гиперпараметров {}\".format(best))"
   ]
  },
  {
   "cell_type": "code",
   "execution_count": null,
   "metadata": {},
   "outputs": [],
   "source": [
    "# запускаем hyperopt\n",
    "trials = Trials()\n",
    "best = fmin( \n",
    "          # функция для оптимизации  \n",
    "            fn=partial(objective, pipeline=model, X_train=X, y_train=y),\n",
    "          # пространство поиска гиперпараметров  \n",
    "            space=search_space,\n",
    "          # алгоритм поиска\n",
    "            algo=tpe.suggest,\n",
    "          # число итераций \n",
    "          # (можно ещё указать и время поиска) \n",
    "            max_evals=40,\n",
    "          # куда сохранять историю поиска\n",
    "            trials=trials,\n",
    "          # random state\n",
    "            rstate=np.random.RandomState(1),\n",
    "          # progressbar\n",
    "            show_progressbar=True\n",
    "        )"
   ]
  }
 ],
 "metadata": {
  "kernelspec": {
   "display_name": "base",
   "language": "python",
   "name": "python3"
  },
  "language_info": {
   "codemirror_mode": {
    "name": "ipython",
    "version": 3
   },
   "file_extension": ".py",
   "mimetype": "text/x-python",
   "name": "python",
   "nbconvert_exporter": "python",
   "pygments_lexer": "ipython3",
   "version": "3.9.12"
  },
  "orig_nbformat": 4,
  "vscode": {
   "interpreter": {
    "hash": "0fb20b21d5fb9b9dbea4ff92731b997a5d987c1af67256bebeeeba4d0aebc764"
   }
  }
 },
 "nbformat": 4,
 "nbformat_minor": 2
}
